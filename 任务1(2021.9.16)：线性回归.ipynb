{
 "cells": [
  {
   "cell_type": "markdown",
   "id": "ae02067d",
   "metadata": {},
   "source": [
    "# 任务一(2021.9.16)  流量/时间对数线性回归\n",
    "$$ ln(-dQ/dt) = C_1 + C_2ln(Q) $$"
   ]
  },
  {
   "cell_type": "markdown",
   "id": "48f461f9",
   "metadata": {},
   "source": [
    "## 1.读取CSV文件"
   ]
  },
  {
   "cell_type": "code",
   "execution_count": 1,
   "id": "c40107e7",
   "metadata": {},
   "outputs": [],
   "source": [
    "import pandas as pd    #导入需要的包并命名为pd"
   ]
  },
  {
   "cell_type": "code",
   "execution_count": 2,
   "id": "421b303a",
   "metadata": {},
   "outputs": [
    {
     "data": {
      "text/html": [
       "<div>\n",
       "<style scoped>\n",
       "    .dataframe tbody tr th:only-of-type {\n",
       "        vertical-align: middle;\n",
       "    }\n",
       "\n",
       "    .dataframe tbody tr th {\n",
       "        vertical-align: top;\n",
       "    }\n",
       "\n",
       "    .dataframe thead th {\n",
       "        text-align: right;\n",
       "    }\n",
       "</style>\n",
       "<table border=\"1\" class=\"dataframe\">\n",
       "  <thead>\n",
       "    <tr style=\"text-align: right;\">\n",
       "      <th></th>\n",
       "      <th>Date</th>\n",
       "      <th>Q</th>\n",
       "      <th>P</th>\n",
       "      <th>ET</th>\n",
       "    </tr>\n",
       "  </thead>\n",
       "  <tbody>\n",
       "    <tr>\n",
       "      <th>0</th>\n",
       "      <td>14-Sep-1994 00:00:00</td>\n",
       "      <td>0.004931</td>\n",
       "      <td>0.0</td>\n",
       "      <td>0.0000</td>\n",
       "    </tr>\n",
       "    <tr>\n",
       "      <th>1</th>\n",
       "      <td>14-Sep-1994 01:00:00</td>\n",
       "      <td>0.004941</td>\n",
       "      <td>0.0</td>\n",
       "      <td>0.0000</td>\n",
       "    </tr>\n",
       "    <tr>\n",
       "      <th>2</th>\n",
       "      <td>14-Sep-1994 02:00:00</td>\n",
       "      <td>0.004959</td>\n",
       "      <td>0.0</td>\n",
       "      <td>0.0000</td>\n",
       "    </tr>\n",
       "    <tr>\n",
       "      <th>3</th>\n",
       "      <td>14-Sep-1994 03:00:00</td>\n",
       "      <td>0.004973</td>\n",
       "      <td>0.0</td>\n",
       "      <td>0.0000</td>\n",
       "    </tr>\n",
       "    <tr>\n",
       "      <th>4</th>\n",
       "      <td>14-Sep-1994 04:00:00</td>\n",
       "      <td>0.004992</td>\n",
       "      <td>0.0</td>\n",
       "      <td>0.0000</td>\n",
       "    </tr>\n",
       "    <tr>\n",
       "      <th>...</th>\n",
       "      <td>...</td>\n",
       "      <td>...</td>\n",
       "      <td>...</td>\n",
       "      <td>...</td>\n",
       "    </tr>\n",
       "    <tr>\n",
       "      <th>17516</th>\n",
       "      <td>12-Sep-1996 20:00:00</td>\n",
       "      <td>0.011824</td>\n",
       "      <td>0.0</td>\n",
       "      <td>0.0007</td>\n",
       "    </tr>\n",
       "    <tr>\n",
       "      <th>17517</th>\n",
       "      <td>12-Sep-1996 21:00:00</td>\n",
       "      <td>0.011937</td>\n",
       "      <td>0.0</td>\n",
       "      <td>0.0003</td>\n",
       "    </tr>\n",
       "    <tr>\n",
       "      <th>17518</th>\n",
       "      <td>12-Sep-1996 22:00:00</td>\n",
       "      <td>0.012045</td>\n",
       "      <td>0.0</td>\n",
       "      <td>0.0002</td>\n",
       "    </tr>\n",
       "    <tr>\n",
       "      <th>17519</th>\n",
       "      <td>12-Sep-1996 23:00:00</td>\n",
       "      <td>0.012158</td>\n",
       "      <td>0.0</td>\n",
       "      <td>0.0001</td>\n",
       "    </tr>\n",
       "    <tr>\n",
       "      <th>17520</th>\n",
       "      <td>13-Sep-1996 00:00:00</td>\n",
       "      <td>0.012271</td>\n",
       "      <td>0.0</td>\n",
       "      <td>0.0001</td>\n",
       "    </tr>\n",
       "  </tbody>\n",
       "</table>\n",
       "<p>17521 rows × 4 columns</p>\n",
       "</div>"
      ],
      "text/plain": [
       "                       Date         Q    P      ET\n",
       "0      14-Sep-1994 00:00:00  0.004931  0.0  0.0000\n",
       "1      14-Sep-1994 01:00:00  0.004941  0.0  0.0000\n",
       "2      14-Sep-1994 02:00:00  0.004959  0.0  0.0000\n",
       "3      14-Sep-1994 03:00:00  0.004973  0.0  0.0000\n",
       "4      14-Sep-1994 04:00:00  0.004992  0.0  0.0000\n",
       "...                     ...       ...  ...     ...\n",
       "17516  12-Sep-1996 20:00:00  0.011824  0.0  0.0007\n",
       "17517  12-Sep-1996 21:00:00  0.011937  0.0  0.0003\n",
       "17518  12-Sep-1996 22:00:00  0.012045  0.0  0.0002\n",
       "17519  12-Sep-1996 23:00:00  0.012158  0.0  0.0001\n",
       "17520  13-Sep-1996 00:00:00  0.012271  0.0  0.0001\n",
       "\n",
       "[17521 rows x 4 columns]"
      ]
     },
     "execution_count": 2,
     "metadata": {},
     "output_type": "execute_result"
    }
   ],
   "source": [
    "df=pd.read_csv(\"./data/HJ-Andrews_WS02_mm_per_hour.csv\") #读取csv文件\n",
    "df   #单独放一个df在这里只是为了展示，没有任何操作。下文中出现的这种操作同样如此。"
   ]
  },
  {
   "cell_type": "code",
   "execution_count": 3,
   "id": "77ea3445",
   "metadata": {},
   "outputs": [
    {
     "data": {
      "text/plain": [
       "0        0.004931\n",
       "1        0.004941\n",
       "2        0.004959\n",
       "3        0.004973\n",
       "4        0.004992\n",
       "           ...   \n",
       "17516    0.011824\n",
       "17517    0.011937\n",
       "17518    0.012045\n",
       "17519    0.012158\n",
       "17520    0.012271\n",
       "Name: Q, Length: 17521, dtype: float64"
      ]
     },
     "execution_count": 3,
     "metadata": {},
     "output_type": "execute_result"
    }
   ],
   "source": [
    "Q=df[\"Q\"]  #提取出CSV文件中的Q列\n",
    "Q"
   ]
  },
  {
   "cell_type": "markdown",
   "id": "64ec123d",
   "metadata": {},
   "source": [
    "## 2.计算ln(Q)"
   ]
  },
  {
   "cell_type": "code",
   "execution_count": 7,
   "id": "1e6a246f",
   "metadata": {},
   "outputs": [
    {
     "data": {
      "text/plain": [
       "0       -5.312193\n",
       "1       -5.310287\n",
       "2       -5.306485\n",
       "3       -5.303644\n",
       "4       -5.299867\n",
       "           ...   \n",
       "17516   -4.437600\n",
       "17517   -4.428095\n",
       "17518   -4.419070\n",
       "17519   -4.409739\n",
       "17520   -4.400494\n",
       "Name: Q, Length: 17521, dtype: float64"
      ]
     },
     "execution_count": 7,
     "metadata": {},
     "output_type": "execute_result"
    }
   ],
   "source": [
    "import numpy as np #导入numpy，numpy是一个非常常用的科学运算包\n",
    "lnQ=np.log(Q)# np.log默认算的是ln哦\n",
    "lnQ"
   ]
  },
  {
   "cell_type": "markdown",
   "id": "a4a1605f",
   "metadata": {},
   "source": [
    "## 3.计算dQ\n",
    "计算方式: $dQ_i=Q_i-Q_{i+1}$    (就是这一行减去下一行的）"
   ]
  },
  {
   "cell_type": "code",
   "execution_count": 42,
   "id": "5bc3723b",
   "metadata": {},
   "outputs": [],
   "source": [
    "lnQ_list=list(lnQ)#将lnQ转换为list类型，方便运算\n",
    "dQ=[]  #声明一个空list，之后算出来的dQ结果都要放入这个list中\n",
    "selected_lnQ=[]    #声明一个空list，将挑选出来的lnQ放在这个list中"
   ]
  },
  {
   "cell_type": "markdown",
   "id": "f2a3025b",
   "metadata": {},
   "source": [
    "这里简单讲一下为什么要挑选一部分$lnQ$和$dQ$\\\n",
    "1.首先我们先回顾一下我们要做线性回归的公式:$ ln(-dQ/dt) = C_1 + C_2ln(Q) $\\\n",
    "2.在$ln(x)$中x必须满足$x>0$，因此dQ在这里需要算出来是一个负数(dt=1)\\\n",
    "3.在观察数据可以发现，通过算$dQ_i=Q_i-Q_{i+1}$得到的$dQ$会有正有负甚至还可能为0\\\n",
    "4.因此我在这里给它弄了个筛选条件：必须满足$|Q_i-Q_{i+1}|>0$才将这样的$dQ$还有其对应的$ln(Q)$保存下来给之后用\n",
    "### 筛选以及保存过程"
   ]
  },
  {
   "cell_type": "code",
   "execution_count": 43,
   "id": "b74eec9e",
   "metadata": {},
   "outputs": [
    {
     "data": {
      "text/plain": [
       "array([-5.31219319, -5.31028671, -5.30648463, ..., -4.42809487,\n",
       "       -4.41906994, -4.4097391 ])"
      ]
     },
     "execution_count": 43,
     "metadata": {},
     "output_type": "execute_result"
    }
   ],
   "source": [
    "for i in range(len(Q)-1):\n",
    "    if np.abs(Q[i]-Q[i+1])>0:           #筛选去除不为dQ不为0的部分,abs就是取绝对值\n",
    "        selected_lnQ.append(lnQ[i])\n",
    "        dQ.append(np.abs(Q[i]-Q[i+1]))\n",
    "dQ=np.array(dQ) #将dQ转换成numpy array类型，方面数据运算\n",
    "selected_lnQ=np.array(selected_lnQ)   #同上\n",
    "selected_lnQ"
   ]
  },
  {
   "cell_type": "markdown",
   "id": "488a35bb",
   "metadata": {},
   "source": [
    "### 看下筛选出来多少$dQ$和$lnQ$（二者数量应该是一样的）"
   ]
  },
  {
   "cell_type": "code",
   "execution_count": 44,
   "id": "9b2af8e6",
   "metadata": {},
   "outputs": [
    {
     "name": "stdout",
     "output_type": "stream",
     "text": [
      "number of dQ:15348\n",
      "number of lnQ:15348\n"
     ]
    }
   ],
   "source": [
    "print(\"number of dQ:{}\".format(len(dQ)))\n",
    "print(\"number of lnQ:{}\".format(len(selected_lnQ)))"
   ]
  },
  {
   "cell_type": "markdown",
   "id": "58a6de23",
   "metadata": {},
   "source": [
    "## 4.计算$ln(-dQ/dt)$"
   ]
  },
  {
   "cell_type": "code",
   "execution_count": 45,
   "id": "1511a124",
   "metadata": {},
   "outputs": [
    {
     "data": {
      "text/plain": [
       "array([-11.5737376 , -10.88059042, -11.16862679, ...,  -9.13134437,\n",
       "        -9.08883095,  -9.0887424 ])"
      ]
     },
     "execution_count": 45,
     "metadata": {},
     "output_type": "execute_result"
    }
   ],
   "source": [
    "dt=1\n",
    "ln_minus_dQ_dT=np.log(np.abs(dQ))  \n",
    "ln_minus_dQ_dT"
   ]
  },
  {
   "cell_type": "markdown",
   "id": "a026b7d5",
   "metadata": {},
   "source": [
    "## 5.绘制散点 "
   ]
  },
  {
   "cell_type": "code",
   "execution_count": 46,
   "id": "09c044b6",
   "metadata": {},
   "outputs": [
    {
     "data": {
      "image/png": "[encoded data removed]",
      "text/plain": [
       "<Figure size 432x288 with 1 Axes>"
      ]
     },
     "metadata": {
      "needs_background": "light"
     },
     "output_type": "display_data"
    }
   ],
   "source": [
    "import matplotlib.pyplot as plt   #matplotlib是常用的绘图工具\n",
    "X=selected_lnQ   #x轴为lnQ\n",
    "Y=ln_minus_dQ_dT  #y轴为𝑙𝑛(−𝑑𝑄/𝑑𝑡)\n",
    "plt.scatter(X, Y, c='b')   #绘制散点图，c（颜色）='b' blue\n",
    "plt.xlabel('lnQ')   #横轴名称\n",
    "plt.ylabel('ln(-dQ/dt)')     #纵轴名称\n",
    "plt.title('Scatter Diagram')\n",
    "plt.show()"
   ]
  },
  {
   "cell_type": "markdown",
   "id": "8d3f3514",
   "metadata": {},
   "source": [
    "## 6.线性回归（拟合）"
   ]
  },
  {
   "cell_type": "code",
   "execution_count": 47,
   "id": "5a93fe06",
   "metadata": {},
   "outputs": [
    {
     "name": "stdout",
     "output_type": "stream",
     "text": [
      "y=1.1842184130572133x+-4.566683881992032\n"
     ]
    }
   ],
   "source": [
    "k, b = np.polyfit(X, Y, 1)   #线性回归，k和b是拟合出来的斜率与截距\n",
    "print(\"y={}x+{}\".format(k,b))"
   ]
  },
  {
   "cell_type": "markdown",
   "id": "c0ad9706",
   "metadata": {},
   "source": [
    "## 7.将拟合线与散点图绘制在一起"
   ]
  },
  {
   "cell_type": "code",
   "execution_count": 48,
   "id": "c0e4bae5",
   "metadata": {},
   "outputs": [
    {
     "data": {
      "image/png": "[encoded data removed]",
      "text/plain": [
       "<Figure size 432x288 with 1 Axes>"
      ]
     },
     "metadata": {
      "needs_background": "light"
     },
     "output_type": "display_data"
    }
   ],
   "source": [
    "line_x = np.arange(-6, 3)\n",
    "line_y = line_x*k+b\n",
    "plt.scatter(X, Y, c='b')\n",
    "plt.plot(line_x, line_y,c=\"r\")\n",
    "plt.xlabel('lnQ')\n",
    "plt.ylabel('ln(-dQ/dt)')\n",
    "plt.title('Qi≠Qi+1   y={}x+{}'.format(str(k),str(b)))\n",
    "plt.show()\n"
   ]
  },
  {
   "cell_type": "markdown",
   "id": "0cb8351d",
   "metadata": {},
   "source": [
    "至此所有的工作流程就走完了"
   ]
  },
  {
   "cell_type": "markdown",
   "id": "96fc61ad",
   "metadata": {},
   "source": [
    "## 遗留的一些问题\n",
    "### 1.我计算dQ的方法对不对，能不能这样处理？\n",
    "### 2.在纵轴上有一系列值小于-12的点，应该是和dQ太小以至于数据范围不够导致，可以考虑去掉，去掉的方式参考如下："
   ]
  },
  {
   "cell_type": "code",
   "execution_count": 51,
   "id": "fd74b19e",
   "metadata": {},
   "outputs": [
    {
     "data": {
      "image/png": "[encoded data removed]",
      "text/plain": [
       "<Figure size 432x288 with 1 Axes>"
      ]
     },
     "metadata": {
      "needs_background": "light"
     },
     "output_type": "display_data"
    }
   ],
   "source": [
    "    X=np.array(selected_lnQ)\n",
    "    Y=ln_minus_dQ_dT\n",
    "    selected_index=np.argwhere(Y>-11.5)\n",
    "    Y=np.squeeze(Y[selected_index])\n",
    "    X=np.squeeze(X[selected_index])\n",
    "    k, b = np.polyfit(X, Y, 1)\n",
    "    fit_fn = np.poly1d((k,b))\n",
    "    line_x = np.arange(-6, 3)\n",
    "    line_y = line_x*k+b\n",
    "    plt.scatter(X, Y, c='b')\n",
    "    plt.plot(line_x, line_y,c=\"r\")\n",
    "    plt.xlabel('lnQ')\n",
    "    plt.ylabel('ln(-dQ/dt)')\n",
    "    plt.title('Qi≠Qi+1   y={}x+{}'.format(str(k),str(b)))\n",
    "    plt.show()"
   ]
  },
  {
   "cell_type": "code",
   "execution_count": null,
   "id": "0f677b55",
   "metadata": {},
   "outputs": [],
   "source": []
  }
 ],
 "metadata": {
  "kernelspec": {
   "display_name": "Python [conda env:wuqian]",
   "language": "python",
   "name": "conda-env-wuqian-py"
  },
  "language_info": {
   "codemirror_mode": {
    "name": "ipython",
    "version": 3
   },
   "file_extension": ".py",
   "mimetype": "text/x-python",
   "name": "python",
   "nbconvert_exporter": "python",
   "pygments_lexer": "ipython3",
   "version": "3.8.11"
  }
 },
 "nbformat": 4,
 "nbformat_minor": 5
}
